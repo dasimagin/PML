{
 "cells": [
  {
   "cell_type": "code",
   "execution_count": 1,
   "metadata": {
    "collapsed": true,
    "deletable": true,
    "editable": true
   },
   "outputs": [],
   "source": [
    "import numpy as np\n",
    "import tensorflow as tf\n",
    "import matplotlib.pyplot as plt\n",
    "\n",
    "%matplotlib inline"
   ]
  },
  {
   "cell_type": "markdown",
   "metadata": {},
   "source": [
    "Set log level to ERROR. You may use INFO for more information."
   ]
  },
  {
   "cell_type": "code",
   "execution_count": 2,
   "metadata": {
    "collapsed": true
   },
   "outputs": [],
   "source": [
    "tf.logging.set_verbosity(tf.logging.ERROR)"
   ]
  },
  {
   "cell_type": "markdown",
   "metadata": {},
   "source": [
    "Prepare mnist dataset."
   ]
  },
  {
   "cell_type": "code",
   "execution_count": 3,
   "metadata": {
    "collapsed": false,
    "deletable": true,
    "editable": true
   },
   "outputs": [
    {
     "name": "stdout",
     "output_type": "stream",
     "text": [
      "Successfully downloaded train-images-idx3-ubyte.gz 9912422 bytes.\n",
      "Extracting MNIST-data/train-images-idx3-ubyte.gz\n",
      "Successfully downloaded train-labels-idx1-ubyte.gz 28881 bytes.\n",
      "Extracting MNIST-data/train-labels-idx1-ubyte.gz\n",
      "Successfully downloaded t10k-images-idx3-ubyte.gz 1648877 bytes.\n",
      "Extracting MNIST-data/t10k-images-idx3-ubyte.gz\n",
      "Successfully downloaded t10k-labels-idx1-ubyte.gz 4542 bytes.\n",
      "Extracting MNIST-data/t10k-labels-idx1-ubyte.gz\n"
     ]
    }
   ],
   "source": [
    "mnist = tf.contrib.learn.datasets.load_dataset(\"mnist\")\n",
    "\n",
    "X_train = mnist.train.images\n",
    "y_train = np.asarray(mnist.train.labels, dtype=np.int32)\n",
    "\n",
    "X_test = mnist.test.images\n",
    "y_test = np.asarray(mnist.test.labels, dtype=np.int32)"
   ]
  },
  {
   "cell_type": "markdown",
   "metadata": {},
   "source": [
    "Show some examples images."
   ]
  },
  {
   "cell_type": "code",
   "execution_count": 4,
   "metadata": {
    "collapsed": false,
    "deletable": true,
    "editable": true
   },
   "outputs": [
    {
     "data": {
      "image/png": "[encoded data removed]",
      "text/plain": [
       "<matplotlib.figure.Figure at 0x1120419e8>"
      ]
     },
     "metadata": {},
     "output_type": "display_data"
    }
   ],
   "source": [
    "image_size = int(np.sqrt(X_train.shape[1]))\n",
    "show_image_n = 16\n",
    "\n",
    "fig = plt.figure(figsize=(12, 1))\n",
    "for i in range(1, show_image_n + 1):\n",
    "    ax = fig.add_subplot(1, show_image_n, i)\n",
    "    \n",
    "    ax.set_title(f'{y_train[i]}')\n",
    "    ax.get_xaxis().set_visible(False)\n",
    "    ax.get_yaxis().set_visible(False)\n",
    "\n",
    "    ax.imshow(X_train[i].reshape(image_size, image_size), cmap=\"gray\")"
   ]
  },
  {
   "cell_type": "markdown",
   "metadata": {},
   "source": [
    "Define function that creates out model."
   ]
  },
  {
   "cell_type": "code",
   "execution_count": 5,
   "metadata": {
    "collapsed": false,
    "deletable": true,
    "editable": true
   },
   "outputs": [],
   "source": [
    "def model_fn(features, labels, mode):\n",
    "    # input\n",
    "    X = features['x']\n",
    "    y = labels\n",
    "    \n",
    "    # layers\n",
    "    result = tf.layers.dense(inputs=X, units=500, use_bias=False)\n",
    "    result = tf.nn.relu(result)\n",
    "    result = tf.layers.dense(inputs=X, units=10, use_bias=False)\n",
    "\n",
    "    predictions = {\n",
    "      'labels': tf.argmax(input=result, axis=1),\n",
    "      'probs': tf.nn.softmax(result, name=\"softmax\")\n",
    "    }\n",
    "\n",
    "    # predict\n",
    "    if mode == tf.estimator.ModeKeys.PREDICT:\n",
    "        return tf.estimator.EstimatorSpec(mode=mode, predictions=predictions)\n",
    "    \n",
    "    # train\n",
    "    loss = tf.losses.sparse_softmax_cross_entropy(labels=y, logits=result)\n",
    "\n",
    "    if mode == tf.estimator.ModeKeys.TRAIN:\n",
    "        optimizer = tf.train.AdamOptimizer(learning_rate=0.001)\n",
    "        train_op = optimizer.minimize(\n",
    "            loss = loss,\n",
    "            global_step = tf.train.get_global_step()\n",
    "        )\n",
    "        \n",
    "        return tf.estimator.EstimatorSpec(mode=mode, loss=loss, train_op=train_op)\n",
    "\n",
    "    # test\n",
    "    eval_metric_ops = {\n",
    "      'accuracy': tf.metrics.accuracy(\n",
    "          labels = y,\n",
    "          predictions = predictions['labels']\n",
    "      )\n",
    "    }\n",
    "\n",
    "    return tf.estimator.EstimatorSpec(mode=mode, loss=loss, eval_metric_ops=eval_metric_ops)"
   ]
  },
  {
   "cell_type": "markdown",
   "metadata": {},
   "source": [
    "Create classifier."
   ]
  },
  {
   "cell_type": "code",
   "execution_count": 6,
   "metadata": {
    "collapsed": false,
    "deletable": true,
    "editable": true
   },
   "outputs": [],
   "source": [
    "classifier = tf.estimator.Estimator(\n",
    "    model_fn = model_fn,\n",
    "    model_dir=\"./mnist_model\",\n",
    "    config = tf.estimator.RunConfig(save_checkpoints_steps=100)\n",
    ")"
   ]
  },
  {
   "cell_type": "markdown",
   "metadata": {},
   "source": [
    "Train our model."
   ]
  },
  {
   "cell_type": "code",
   "execution_count": 7,
   "metadata": {
    "collapsed": false,
    "deletable": true,
    "editable": true
   },
   "outputs": [
    {
     "name": "stdout",
     "output_type": "stream",
     "text": [
      "CPU times: user 22.4 s, sys: 2.53 s, total: 24.9 s\n",
      "Wall time: 17.1 s\n"
     ]
    },
    {
     "data": {
      "text/plain": [
       "<tensorflow.python.estimator.estimator.Estimator at 0x12d01eba8>"
      ]
     },
     "execution_count": 7,
     "metadata": {},
     "output_type": "execute_result"
    }
   ],
   "source": [
    "train_input_fn = tf.estimator.inputs.numpy_input_fn(\n",
    "    x = {'x': X_train},\n",
    "    y = y_train,\n",
    "    batch_size = 32,\n",
    "    num_epochs = 5,\n",
    "    shuffle = True\n",
    ")\n",
    "\n",
    "%time classifier.train(input_fn = train_input_fn)"
   ]
  },
  {
   "cell_type": "code",
   "execution_count": null,
   "metadata": {
    "collapsed": true
   },
   "outputs": [],
   "source": [
    "Test out model."
   ]
  },
  {
   "cell_type": "code",
   "execution_count": null,
   "metadata": {
    "collapsed": false,
    "deletable": true,
    "editable": true
   },
   "outputs": [
    {
     "name": "stdout",
     "output_type": "stream",
     "text": [
      "{'accuracy': 0.9232, 'loss': 0.27321193, 'global_step': 8594}\n",
      "CPU times: user 492 ms, sys: 78.2 ms, total: 570 ms\n",
      "Wall time: 474 ms\n"
     ]
    }
   ],
   "source": [
    "eval_input_fn = tf.estimator.inputs.numpy_input_fn(\n",
    "    x = {'x': X_test},\n",
    "    y = y_test,\n",
    "    num_epochs = 1,\n",
    "    shuffle = False\n",
    ")\n",
    "\n",
    "%time print(classifier.evaluate(input_fn=eval_input_fn))"
   ]
  },
  {
   "cell_type": "code",
   "execution_count": null,
   "metadata": {
    "collapsed": false,
    "deletable": true,
    "editable": true
   },
   "outputs": [],
   "source": [
    "image_size = int(np.sqrt(X_train.shape[1]))\n",
    "\n",
    "show_h = 10\n",
    "show_w = 6\n",
    "show_n = show_h * show_w\n",
    "\n",
    "result = list(classifier.predict(input_fn=eval_input_fn))\n",
    "\n",
    "\n",
    "fig = plt.figure(figsize=(18, 18))\n",
    "ticks = list(range(10))\n",
    "\n",
    "for i in range(0, show_n):\n",
    "    label = result[i]['labels']\n",
    "    probs = result[i]['probs']\n",
    "    \n",
    "    ax = fig.add_subplot(show_h, 2 * show_w, 2 * i + 1)\n",
    "    \n",
    "    ax.set_title(f'{label}')\n",
    "    ax.get_xaxis().set_visible(False)\n",
    "    ax.get_yaxis().set_visible(False)\n",
    "\n",
    "    ax.imshow(X_train[i].reshape(image_size, image_size), cmap=\"gray\")\n",
    "    \n",
    "    ax = fig.add_subplot(show_h, 2 * show_w, 2 * i + 2)\n",
    "    \n",
    "    ax.get_xaxis().set_visible(False)\n",
    "    ax.set_xticks(ticks=ticks)\n",
    "    \n",
    "    ax.imshow(probs.reshape(-1, 1), cmap='gray')"
   ]
  }
 ],
 "metadata": {
  "kernelspec": {
   "display_name": "Python 3",
   "language": "python",
   "name": "python3"
  },
  "language_info": {
   "codemirror_mode": {
    "name": "ipython",
    "version": 3
   },
   "file_extension": ".py",
   "mimetype": "text/x-python",
   "name": "python",
   "nbconvert_exporter": "python",
   "pygments_lexer": "ipython3",
   "version": "3.6.4"
  }
 },
 "nbformat": 4,
 "nbformat_minor": 2
}
